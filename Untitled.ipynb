{
 "cells": [
  {
   "cell_type": "code",
   "execution_count": 3,
   "metadata": {},
   "outputs": [
    {
     "name": "stdout",
     "output_type": "stream",
     "text": [
      "[{\"ticker\":\"curebtc\",\"baseCurrency\":\"cure\",\"quoteCurrency\":\"btc\",\"priceData\":[{\"high\":2.85e-06,\"low\":2.85e-06,\"date\":\"2021-04-29T01:20:00+00:00\",\"open\":2.85e-06,\"close\":2.85e-06,\"tradesDone\":1.0,\"volumeNotional\":0.0009514575518354999,\"volume\":333.84475503},{\"high\":2.87e-06,\"low\":2.77e-06,\"date\":\"2021-04-29T02:25:00+00:00\",\"open\":2.85e-06,\"close\":2.77e-06,\"tradesDone\":4.0,\"volumeNotional\":0.004071954387094101,\"volume\":1470.0196343300001},{\"high\":2.8e-06,\"low\":2.8e-06,\"date\":\"2021-04-29T03:25:00+00:00\",\"open\":2.8e-06,\"close\":2.8e-06,\"tradesDone\":1.0,\"volumeNotional\":0.0001110948328,\"volume\":39.676726}]}]\n"
     ]
    }
   ],
   "source": [
    "from pytiingo.rest.client import Client\n",
    "\n",
    "c = Client('57dcb3efa474a3f7d95b0bdccd7e6d274333724e', output_format='pandas')\n",
    "\n",
    "df = c.crypto.get_price_data('curebtc')"
   ]
  },
  {
   "cell_type": "code",
   "execution_count": 6,
   "metadata": {},
   "outputs": [],
   "source": [
    "dic = df['priceData']"
   ]
  },
  {
   "cell_type": "code",
   "execution_count": 13,
   "metadata": {},
   "outputs": [
    {
     "data": {
      "text/plain": [
       "{0: [{'high': 2.85e-06,\n",
       "   'low': 2.85e-06,\n",
       "   'date': '2021-04-29T01:20:00+00:00',\n",
       "   'open': 2.85e-06,\n",
       "   'close': 2.85e-06,\n",
       "   'tradesDone': 1.0,\n",
       "   'volumeNotional': 0.0009514575518354999,\n",
       "   'volume': 333.84475503},\n",
       "  {'high': 2.87e-06,\n",
       "   'low': 2.77e-06,\n",
       "   'date': '2021-04-29T02:25:00+00:00',\n",
       "   'open': 2.85e-06,\n",
       "   'close': 2.77e-06,\n",
       "   'tradesDone': 4.0,\n",
       "   'volumeNotional': 0.004071954387094101,\n",
       "   'volume': 1470.0196343300001},\n",
       "  {'high': 2.8e-06,\n",
       "   'low': 2.8e-06,\n",
       "   'date': '2021-04-29T03:25:00+00:00',\n",
       "   'open': 2.8e-06,\n",
       "   'close': 2.8e-06,\n",
       "   'tradesDone': 1.0,\n",
       "   'volumeNotional': 0.0001110948328,\n",
       "   'volume': 39.676726}]}"
      ]
     },
     "execution_count": 13,
     "metadata": {},
     "output_type": "execute_result"
    }
   ],
   "source": [
    "dic.to_dict()"
   ]
  },
  {
   "cell_type": "code",
   "execution_count": null,
   "metadata": {},
   "outputs": [],
   "source": []
  }
 ],
 "metadata": {
  "kernelspec": {
   "display_name": "Python 3",
   "language": "python",
   "name": "python3"
  },
  "language_info": {
   "codemirror_mode": {
    "name": "ipython",
    "version": 3
   },
   "file_extension": ".py",
   "mimetype": "text/x-python",
   "name": "python",
   "nbconvert_exporter": "python",
   "pygments_lexer": "ipython3",
   "version": "3.8.5"
  }
 },
 "nbformat": 4,
 "nbformat_minor": 4
}
